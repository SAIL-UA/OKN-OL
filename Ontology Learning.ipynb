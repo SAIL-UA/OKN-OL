{
 "cells": [
  {
   "cell_type": "code",
   "execution_count": 8,
   "id": "284747e8",
   "metadata": {},
   "outputs": [
    {
     "name": "stdout",
     "output_type": "stream",
     "text": [
      "Uploaded file ID: FileObject(id='file-BXNgLbqw3RlVrWFzFpm1lFfK', bytes=2502, created_at=1712331752, filename='taxonomy_chat_completion_examples.jsonl', object='file', purpose='fine-tune', status='processed', status_details=None)\n"
     ]
    }
   ],
   "source": [
    "from openai import OpenAI\n",
    "\n",
    "client = OpenAI(api_key = \"your-key\")\n",
    "\n",
    "\n",
    "\n",
    "# Upload the file and capture the response\n",
    "response = client.files.create(\n",
    "    file=open(\"/Users/ethan/Downloads/taxonomy_chat_completion_examples.jsonl\", \"rb\"),\n",
    "    purpose=\"fine-tune\"\n",
    ")\n",
    "\n",
    "# Assuming the response is a dictionary-like object that includes the file ID\n",
    "print(\"Uploaded file ID:\", response)\n"
   ]
  },
  {
   "cell_type": "code",
   "execution_count": 17,
   "id": "e0905e84",
   "metadata": {},
   "outputs": [
    {
     "name": "stdout",
     "output_type": "stream",
     "text": [
      "{'messages': [{'role': 'system', 'content': \"You're an assistant who explains how items are categorized.\"}, {'role': 'user', 'content': 'How is an apple categorized?'}, {'role': 'assistant', 'content': 'An apple is categorized as a fruit.'}]}\n",
      "{'messages': [{'role': 'system', 'content': \"You're an assistant who explains how items are categorized.\"}, {'role': 'user', 'content': 'What category does a car fall under?'}, {'role': 'assistant', 'content': 'A car falls under the category of vehicles.'}]}\n",
      "{'messages': [{'role': 'system', 'content': \"You're an assistant who explains how items are categorized.\"}, {'role': 'user', 'content': 'Is a shirt considered clothing?'}, {'role': 'assistant', 'content': 'Yes, a shirt is considered clothing.'}]}\n",
      "{'messages': [{'role': 'system', 'content': \"You're an assistant who explains how items are categorized.\"}, {'role': 'user', 'content': 'What is a dog classified as?'}, {'role': 'assistant', 'content': 'A dog is classified as an animal.'}]}\n",
      "{'messages': [{'role': 'system', 'content': \"You're an assistant who explains how items are categorized.\"}, {'role': 'user', 'content': 'What category does a guitar belong to?'}, {'role': 'assistant', 'content': 'A guitar belongs to the category of instruments.'}]}\n",
      "{'messages': [{'role': 'system', 'content': \"You're an assistant who explains how items are categorized.\"}, {'role': 'user', 'content': 'What is a chair considered as?'}, {'role': 'assistant', 'content': 'A chair is considered as furniture.'}]}\n",
      "{'messages': [{'role': 'system', 'content': \"You're an assistant who explains how items are categorized.\"}, {'role': 'user', 'content': 'Where does a smartphone fit in?'}, {'role': 'assistant', 'content': 'A smartphone fits in the electronics category.'}]}\n",
      "{'messages': [{'role': 'system', 'content': \"You're an assistant who explains how items are categorized.\"}, {'role': 'user', 'content': 'What category is soccer in?'}, {'role': 'assistant', 'content': 'Soccer is in the sports category.'}]}\n",
      "{'messages': [{'role': 'system', 'content': \"You're an assistant who explains how items are categorized.\"}, {'role': 'user', 'content': 'How is a refrigerator categorized?'}, {'role': 'assistant', 'content': 'A refrigerator is categorized as an appliance.'}]}\n",
      "{'messages': [{'role': 'system', 'content': \"You're an assistant who explains how items are categorized.\"}, {'role': 'user', 'content': 'What is a hammer classified as?'}, {'role': 'assistant', 'content': 'A hammer is classified as a tool.'}]}\n"
     ]
    }
   ],
   "source": [
    "import json\n",
    "\n",
    "# Replace 'your_file.jsonl' with the path to your JSONL file\n",
    "file_path = '/Users/ethan/Downloads/taxonomy_chat_completion_examples.jsonl'\n",
    "\n",
    "# Open the JSONL file for reading\n",
    "with open(file_path, 'r') as file:\n",
    "    # Iterate over each line in the file\n",
    "    for line in file:\n",
    "        # Parse the JSON object from the line\n",
    "        json_obj = json.loads(line)\n",
    "        # Print the JSON object\n",
    "        print(json_obj)\n"
   ]
  },
  {
   "cell_type": "code",
   "execution_count": 9,
   "id": "2ffc7d5a",
   "metadata": {},
   "outputs": [
    {
     "name": "stdout",
     "output_type": "stream",
     "text": [
      "FineTuningJob(id='ftjob-s6xIIOUD9cLw4g2KZiqYahLA', created_at=1712331762, error=Error(code=None, message=None, param=None, error=None), fine_tuned_model=None, finished_at=None, hyperparameters=Hyperparameters(n_epochs='auto', batch_size='auto', learning_rate_multiplier='auto'), model='gpt-3.5-turbo-0125', object='fine_tuning.job', organization_id='org-aqXL0iKAlLtJEgvbtFxpau5R', result_files=[], status='validating_files', trained_tokens=None, training_file='file-BXNgLbqw3RlVrWFzFpm1lFfK', validation_file=None, user_provided_suffix=None, seed=271418589, integrations=[])\n"
     ]
    }
   ],
   "source": [
    "\n",
    "\n",
    "out = client.fine_tuning.jobs.create(\n",
    "  training_file=\"file-BXNgLbqw3RlVrWFzFpm1lFfK\", \n",
    "  model=\"gpt-3.5-turbo\"\n",
    ")\n",
    "\n",
    "print(out)"
   ]
  },
  {
   "cell_type": "code",
   "execution_count": 15,
   "id": "3acbf5fa",
   "metadata": {},
   "outputs": [
    {
     "name": "stdout",
     "output_type": "stream",
     "text": [
      "FineTuningJob(id='ftjob-s6xIIOUD9cLw4g2KZiqYahLA', created_at=1712331762, error=Error(code=None, message=None, param=None, error=None), fine_tuned_model='ft:gpt-3.5-turbo-0125:personal::9Ag5iHo9', finished_at=1712332106, hyperparameters=Hyperparameters(n_epochs=10, batch_size=1, learning_rate_multiplier=8), model='gpt-3.5-turbo-0125', object='fine_tuning.job', organization_id='org-aqXL0iKAlLtJEgvbtFxpau5R', result_files=['file-JXQ8bis5m7lGHjrwy07IGboL'], status='succeeded', trained_tokens=3890, training_file='file-BXNgLbqw3RlVrWFzFpm1lFfK', validation_file=None, user_provided_suffix=None, seed=271418589, integrations=[])\n"
     ]
    }
   ],
   "source": [
    "response = client.fine_tuning.jobs.retrieve(\"ftjob-s6xIIOUD9cLw4g2KZiqYahLA\")\n",
    "print(response)"
   ]
  },
  {
   "cell_type": "code",
   "execution_count": 12,
   "id": "0aeb1340",
   "metadata": {},
   "outputs": [
    {
     "name": "stderr",
     "output_type": "stream",
     "text": [
      "/var/folders/gc/zwfx23rj7pv68x9bmnqlklv80000gn/T/ipykernel_67360/4252113131.py:1: DeprecationWarning: The `.content()` method should be used instead\n",
      "  response1 = client.files.retrieve_content(\"file-JXQ8bis5m7lGHjrwy07IGboL\")\n"
     ]
    },
    {
     "name": "stdout",
     "output_type": "stream",
     "text": [
      "step,train_loss,train_accuracy,valid_loss,valid_mean_token_accuracy\n",
      "1,2.10435,0.6,,\n",
      "2,2.26513,0.9,,\n",
      "3,0.90697,0.8,,\n",
      "4,1.1096,0.81818,,\n",
      "5,0.01478,1.0,,\n",
      "6,0.08254,1.0,,\n",
      "7,0.0015,1.0,,\n",
      "8,0.18574,0.90909,,\n",
      "9,0.06346,1.0,,\n",
      "10,8e-05,1.0,,\n",
      "11,1e-05,1.0,,\n",
      "12,0.0001,1.0,,\n",
      "13,0.00014,1.0,,\n",
      "14,0.09063,1.0,,\n",
      "15,0.00469,1.0,,\n",
      "16,0.4838,0.88889,,\n",
      "17,0.12185,0.9,,\n",
      "18,2.0637,0.8,,\n",
      "19,1.16137,0.9,,\n",
      "20,0.48133,0.9,,\n",
      "21,0.00033,1.0,,\n",
      "22,7e-05,1.0,,\n",
      "23,3e-05,1.0,,\n",
      "24,0.17437,0.9,,\n",
      "25,2e-05,1.0,,\n",
      "26,2.17343,0.90909,,\n",
      "27,1e-05,1.0,,\n",
      "28,1e-05,1.0,,\n",
      "29,0.4451,0.90909,,\n",
      "30,0.0,1.0,,\n",
      "31,0.0,1.0,,\n",
      "32,0.0,1.0,,\n",
      "33,0.0,1.0,,\n",
      "34,0.0,1.0,,\n",
      "35,0.0,1.0,,\n",
      "36,0.0,1.0,,\n",
      "37,0.0,1.0,,\n",
      "38,0.0,1.0,,\n",
      "39,0.0,1.0,,\n",
      "40,0.0,1.0,,\n",
      "41,0.0,1.0,,\n",
      "42,0.0,1.0,,\n",
      "43,0.0,1.0,,\n",
      "44,0.0,1.0,,\n",
      "45,0.0,1.0,,\n",
      "46,0.0,1.0,,\n",
      "47,0.0,1.0,,\n",
      "48,0.0,1.0,,\n",
      "49,0.0,1.0,,\n",
      "50,0.0,1.0,,\n",
      "51,0.0,1.0,,\n",
      "52,0.0,1.0,,\n",
      "53,0.0,1.0,,\n",
      "54,0.0,1.0,,\n",
      "55,0.0,1.0,,\n",
      "56,0.0,1.0,,\n",
      "57,0.0,1.0,,\n",
      "58,0.0,1.0,,\n",
      "59,0.0,1.0,,\n",
      "60,0.0,1.0,,\n",
      "61,0.0,1.0,,\n",
      "62,0.0,1.0,,\n",
      "63,0.0,1.0,,\n",
      "64,0.0,1.0,,\n",
      "65,0.0,1.0,,\n",
      "66,0.0,1.0,,\n",
      "67,0.0,1.0,,\n",
      "68,0.0,1.0,,\n",
      "69,0.0,1.0,,\n",
      "70,1e-05,1.0,,\n",
      "71,0.0,1.0,,\n",
      "72,0.0,1.0,,\n",
      "73,0.0,1.0,,\n",
      "74,0.0,1.0,,\n",
      "75,0.0,1.0,,\n",
      "76,0.0,1.0,,\n",
      "77,0.0,1.0,,\n",
      "78,0.0,1.0,,\n",
      "79,0.0,1.0,,\n",
      "80,0.0,1.0,,\n",
      "81,0.0,1.0,,\n",
      "82,0.0,1.0,,\n",
      "83,0.0,1.0,,\n",
      "84,0.0,1.0,,\n",
      "85,0.0,1.0,,\n",
      "86,0.0,1.0,,\n",
      "87,0.0,1.0,,\n",
      "88,0.0,1.0,,\n",
      "89,0.0,1.0,,\n",
      "90,0.0,1.0,,\n",
      "91,0.0,1.0,,\n",
      "92,0.0,1.0,,\n",
      "93,0.0,1.0,,\n",
      "94,0.0,1.0,,\n",
      "95,0.0,1.0,,\n",
      "96,0.0,1.0,,\n",
      "97,0.0,1.0,,\n",
      "98,0.0,1.0,,\n",
      "99,0.0,1.0,,\n",
      "100,0.0,1.0,,\n",
      "\n"
     ]
    }
   ],
   "source": [
    "response1 = client.files.retrieve_content(\"file-JXQ8bis5m7lGHjrwy07IGboL\")\n",
    "print(response1)\n"
   ]
  },
  {
   "cell_type": "code",
   "execution_count": 20,
   "id": "15a13669",
   "metadata": {},
   "outputs": [
    {
     "name": "stdout",
     "output_type": "stream",
     "text": [
      "Q4: Where do mystery novels fit in terms of book genres?\n",
      "A4: ChatCompletionMessage(content='Mystery novels fit in the detective genre.', role='assistant', function_call=None, tool_calls=None)\n",
      "Q5: What category does a blender belong to?\n",
      "A5: ChatCompletionMessage(content='A blender belongs to the category of appliances.', role='assistant', function_call=None, tool_calls=None)\n",
      "Q6: Is a piano considered a string or a percussion instrument?\n",
      "A6: ChatCompletionMessage(content='A piano is considered a string instrument.', role='assistant', function_call=None, tool_calls=None)\n",
      "Q7: What category does swimming fall under?\n",
      "A7: ChatCompletionMessage(content='Swimming falls under the category of sports.', role='assistant', function_call=None, tool_calls=None)\n",
      "Q8: What type of device is a router?\n",
      "A8: ChatCompletionMessage(content='A router is a type of device.', role='assistant', function_call=None, tool_calls=None)\n"
     ]
    }
   ],
   "source": [
    "\n",
    "\n",
    "# Test case 4: Categorizing a type of book\n",
    "messages_4 = [\n",
    "    {\"role\": \"system\", \"content\": \"You're an assistant who explains how items are categorized.\"},\n",
    "    {\"role\": \"user\", \"content\": \"Where do mystery novels fit in terms of book genres?\"}\n",
    "]\n",
    "completion_4 = client.chat.completions.create(\n",
    "    model=\"\",  # Replace with your actual fine-tuned model ID\n",
    "    messages=messages_4\n",
    ")\n",
    "print(\"Q4:\", messages_4[1][\"content\"])\n",
    "print(\"A4:\", completion_4.choices[0].message)\n",
    "\n",
    "# Test case 5: Asking about a kitchen appliance\n",
    "messages_5 = [\n",
    "    {\"role\": \"system\", \"content\": \"You're an assistant who explains how items are categorized.\"},\n",
    "    {\"role\": \"user\", \"content\": \"What category does a blender belong to?\"}\n",
    "]\n",
    "completion_5 = client.chat.completions.create(\n",
    "    model=\"\",\n",
    "    messages=messages_5\n",
    ")\n",
    "print(\"Q5:\", messages_5[1][\"content\"])\n",
    "print(\"A5:\", completion_5.choices[0].message)\n",
    "\n",
    "# Test case 6: Categorizing a musical instrument\n",
    "messages_6 = [\n",
    "    {\"role\": \"system\", \"content\": \"You're an assistant who explains how items are categorized.\"},\n",
    "    {\"role\": \"user\", \"content\": \"Is a piano considered a string or a percussion instrument?\"}\n",
    "]\n",
    "completion_6 = client.chat.completions.create(\n",
    "    model=\"\",\n",
    "    messages=messages_6\n",
    ")\n",
    "print(\"Q6:\", messages_6[1][\"content\"])\n",
    "print(\"A6:\", completion_6.choices[0].message)\n",
    "\n",
    "# Test case 7: Asking about a type of sport\n",
    "messages_7 = [\n",
    "    {\"role\": \"system\", \"content\": \"You're an assistant who explains how items are categorized.\"},\n",
    "    {\"role\": \"user\", \"content\": \"What category does swimming fall under?\"}\n",
    "]\n",
    "completion_7 = client.chat.completions.create(\n",
    "    model=\"\",\n",
    "    messages=messages_7\n",
    ")\n",
    "print(\"Q7:\", messages_7[1][\"content\"])\n",
    "print(\"A7:\", completion_7.choices[0].message)\n",
    "\n",
    "# Test case 8: Categorizing a technological item\n",
    "messages_8 = [\n",
    "    {\"role\": \"system\", \"content\": \"You're an assistant who explains how items are categorized.\"},\n",
    "    {\"role\": \"user\", \"content\": \"What type of device is a router?\"}\n",
    "]\n",
    "completion_8 = client.chat.completions.create(\n",
    "    model=\"\",\n",
    "    messages=messages_8\n",
    ")\n",
    "print(\"Q8:\", messages_8[1][\"content\"])\n",
    "print(\"A8:\", completion_8.choices[0].message)\n"
   ]
  },
  {
   "cell_type": "code",
   "execution_count": null,
   "id": "76db5994",
   "metadata": {},
   "outputs": [],
   "source": []
  }
 ],
 "metadata": {
  "kernelspec": {
   "display_name": "Python 3 (ipykernel)",
   "language": "python",
   "name": "python3"
  },
  "language_info": {
   "codemirror_mode": {
    "name": "ipython",
    "version": 3
   },
   "file_extension": ".py",
   "mimetype": "text/x-python",
   "name": "python",
   "nbconvert_exporter": "python",
   "pygments_lexer": "ipython3",
   "version": "3.9.13"
  }
 },
 "nbformat": 4,
 "nbformat_minor": 5
}
